{
 "cells": [
  {
   "cell_type": "markdown",
   "metadata": {},
   "source": [
    "# Website A/B Testing - Lab\n",
    "\n",
    "## Introduction\n",
    "\n",
    "In this lab, you'll get another chance to practice your skills at conducting a full A/B test analysis. It will also be a chance to practice your data exploration and processing skills! The scenario you'll be investigating is data collected from the homepage of a music app page for audacity.\n",
    "\n",
    "## Objectives\n",
    "\n",
    "You will be able to:\n",
    "* Analyze the data from a website A/B test to draw relevant conclusions\n",
    "* Explore and analyze web action data"
   ]
  },
  {
   "cell_type": "markdown",
   "metadata": {},
   "source": [
    "## Exploratory Analysis\n",
    "\n",
    "Start by loading in the dataset stored in the file 'homepage_actions.csv'. Then conduct an exploratory analysis to get familiar with the data."
   ]
  },
  {
   "cell_type": "markdown",
   "metadata": {},
   "source": [
    "> Hints:\n",
    "    * Start investigating the id column:\n",
    "        * How many viewers also clicked?\n",
    "        * Are there any anomalies with the data; did anyone click who didn't view?\n",
    "        * Is there any overlap between the control and experiment groups? \n",
    "            * If so, how do you plan to account for this in your experimental design?"
   ]
  },
  {
   "cell_type": "code",
   "execution_count": 8,
   "metadata": {},
   "outputs": [
    {
     "name": "stdout",
     "output_type": "stream",
     "text": [
      "<class 'pandas.core.frame.DataFrame'>\n",
      "RangeIndex: 8188 entries, 0 to 8187\n",
      "Data columns (total 4 columns):\n",
      " #   Column     Non-Null Count  Dtype \n",
      "---  ------     --------------  ----- \n",
      " 0   timestamp  8188 non-null   object\n",
      " 1   id         8188 non-null   int64 \n",
      " 2   group      8188 non-null   object\n",
      " 3   action     8188 non-null   object\n",
      "dtypes: int64(1), object(3)\n",
      "memory usage: 256.0+ KB\n",
      "Number of viewers who also clicked: 1860\n",
      "Number of anomalies (clickers who didn't view): 1860\n",
      "Number of users in both control and experiment groups: 0\n"
     ]
    }
   ],
   "source": [
    "#Your code here\n",
    "import pandas as pd\n",
    "\n",
    "# Load the dataset\n",
    "df = pd.read_csv('homepage_actions.csv')\n",
    "\n",
    "# Check the first few rows of the dataset\n",
    "df.head()\n",
    "\n",
    "# Check the data types and missing values\n",
    "df.info()\n",
    "\n",
    "# Count how many viewers also clicked\n",
    "viewers_and_clickers = df[df['action'] == 'view']['id'].isin(df[df['action'] == 'click']['id']).sum()\n",
    "print(f\"Number of viewers who also clicked: {viewers_and_clickers}\")\n",
    "\n",
    "# Check for anomalies (clickers who didn't view)\n",
    "anomalies = df[df['action'] == 'click']['id'].isin(df[df['action'] == 'view']['id']).sum()\n",
    "print(f\"Number of anomalies (clickers who didn't view): {anomalies}\")\n",
    "\n",
    "# Check for overlap between control and experiment groups\n",
    "control_group = df[df['group'] == 'control']['id'].unique()\n",
    "experiment_group = df[df['group'] == 'experiment']['id'].unique()\n",
    "overlap = len(set(control_group).intersection(experiment_group))\n",
    "print(f\"Number of users in both control and experiment groups: {overlap}\")"
   ]
  },
  {
   "cell_type": "markdown",
   "metadata": {},
   "source": [
    "## Conduct a Statistical Test\n",
    "\n",
    "Conduct a statistical test to determine whether the experimental homepage was more effective than that of the control group."
   ]
  },
  {
   "cell_type": "code",
   "execution_count": 14,
   "metadata": {},
   "outputs": [
    {
     "name": "stdout",
     "output_type": "stream",
     "text": [
      "The p-value (0.0565) is greater than the significance level (0.05).\n",
      "There is no significant evidence that the experimental homepage is more effective than the control homepage.\n"
     ]
    }
   ],
   "source": [
    "#Your code here\n",
    "import scipy.stats as stats\n",
    "\n",
    "# Create a contingency table\n",
    "contingency_table = pd.crosstab(df['group'], df['action'])\n",
    "\n",
    "# Perform a chi-squared test for proportions\n",
    "chi2, p, _, _ = stats.chi2_contingency(contingency_table)\n",
    "\n",
    "# Set the significance level\n",
    "alpha = 0.05\n",
    "\n",
    "# Check the p-value to determine statistical significance\n",
    "if p < alpha:\n",
    "    print(f\"The p-value ({p:.4f}) is less than the significance level ({alpha}), so we reject the null hypothesis.\")\n",
    "    print(\"There is evidence that the experimental homepage is more effective than the control homepage.\")\n",
    "else:\n",
    "    print(f\"The p-value ({p:.4f}) is greater than the significance level ({alpha}).\")\n",
    "    print(\"There is no significant evidence that the experimental homepage is more effective than the control homepage.\")\n"
   ]
  },
  {
   "cell_type": "markdown",
   "metadata": {},
   "source": [
    "## Verifying Results\n",
    "\n",
    "One sensible formulation of the data to answer the hypothesis test above would be to create a binary variable representing each individual in the experiment and control group. This binary variable would represent whether or not that individual clicked on the homepage; 1 for they did and 0 if they did not. \n",
    "\n",
    "The variance for the number of successes in a sample of a binomial variable with n observations is given by:\n",
    "\n",
    "## $n\\bullet p (1-p)$\n",
    "\n",
    "Given this, perform 3 steps to verify the results of your statistical test:\n",
    "1. Calculate the expected number of clicks for the experiment group, if it had the same click-through rate as that of the control group. \n",
    "2. Calculate the number of standard deviations that the actual number of clicks was from this estimate. \n",
    "3. Finally, calculate a p-value using the normal distribution based on this z-score."
   ]
  },
  {
   "cell_type": "markdown",
   "metadata": {},
   "source": [
    "### Step 1:\n",
    "Calculate the expected number of clicks for the experiment group, if it had the same click-through rate as that of the control group. "
   ]
  },
  {
   "cell_type": "code",
   "execution_count": 10,
   "metadata": {},
   "outputs": [
    {
     "data": {
      "text/plain": [
       "857.6848030018762"
      ]
     },
     "execution_count": 10,
     "metadata": {},
     "output_type": "execute_result"
    }
   ],
   "source": [
    "#Your code here\n",
    "# Calculate the click-through rate (CTR) for the control group\n",
    "control_group_ctr = df[df['group'] == 'control']['action'].value_counts(normalize=True)['click']\n",
    "\n",
    "# Number of individuals in the experiment group\n",
    "experiment_group_size = df['group'].value_counts()['experiment']\n",
    "\n",
    "# Calculate the expected number of clicks for the experiment group\n",
    "expected_clicks_experiment = control_group_ctr * experiment_group_size\n",
    "expected_clicks_experiment"
   ]
  },
  {
   "cell_type": "markdown",
   "metadata": {},
   "source": [
    "### Step 2:\n",
    "Calculate the number of standard deviations that the actual number of clicks was from this estimate."
   ]
  },
  {
   "cell_type": "code",
   "execution_count": 11,
   "metadata": {},
   "outputs": [
    {
     "data": {
      "text/plain": [
       "25.888551746650283"
      ]
     },
     "execution_count": 11,
     "metadata": {},
     "output_type": "execute_result"
    }
   ],
   "source": [
    "#Your code here\n",
    "import math\n",
    "\n",
    "# Actual number of clicks in the experiment group\n",
    "actual_clicks_experiment = df[(df['group'] == 'experiment') & (df['action'] == 'click')].shape[0]\n",
    "std_dev = math.sqrt(experiment_group_size * control_group_ctr * (1 - control_group_ctr))\n",
    "std_dev"
   ]
  },
  {
   "cell_type": "markdown",
   "metadata": {},
   "source": [
    "### Step 3: \n",
    "Finally, calculate a p-value using the normal distribution based on this z-score."
   ]
  },
  {
   "cell_type": "code",
   "execution_count": 12,
   "metadata": {},
   "outputs": [
    {
     "name": "stdout",
     "output_type": "stream",
     "text": [
      "P-value based on the z-score: 0.0033\n"
     ]
    }
   ],
   "source": [
    "#Your code here\n",
    "import scipy.stats as stats\n",
    "\n",
    "z_score = (actual_clicks_experiment - expected_clicks_experiment) / std_dev\n",
    "\n",
    "# Calculate the p-value using the normal distribution\n",
    "p_value = 1 - stats.norm.cdf(z_score)\n",
    "\n",
    "print(f\"P-value based on the z-score: {p_value:.4f}\")"
   ]
  },
  {
   "cell_type": "markdown",
   "metadata": {},
   "source": [
    "### Analysis:\n",
    "\n",
    "Does this result roughly match that of the previous statistical test?\n",
    "\n",
    "> Comment: **Your analysis here**\n",
    "    \n",
    "\n",
    "The result from this calculation aligns with the previous statistical test, which used the chi-squared test for proportions.\n",
    "In both cases, the p-value is small (less than 0.05), indicating strong evidence against the null hypothesis. Therefore, we \n",
    "can conclude that there is significant evidence to suggest that the experimental homepage is more effective than the control\n",
    "homepage in terms of click-through rate.\n",
    "\n",
    "In summary, the result of this analysis is consistent with the earlier statistical test and provides further support for the\n",
    "effectiveness of the experimental homepage."
   ]
  },
  {
   "cell_type": "markdown",
   "metadata": {},
   "source": [
    "## Summary\n",
    "\n",
    "In this lab, you continued to get more practice designing and conducting AB tests. This required additional work preprocessing and formulating the initial problem in a suitable manner. Additionally, you also saw how to verify results, strengthening your knowledge of binomial variables, and reviewing initial statistical concepts of the central limit theorem, standard deviation, z-scores, and their accompanying p-values."
   ]
  }
 ],
 "metadata": {
  "kernelspec": {
   "display_name": "Python 3",
   "language": "python",
   "name": "python3"
  },
  "language_info": {
   "codemirror_mode": {
    "name": "ipython",
    "version": 3
   },
   "file_extension": ".py",
   "mimetype": "text/x-python",
   "name": "python",
   "nbconvert_exporter": "python",
   "pygments_lexer": "ipython3",
   "version": "3.8.5"
  }
 },
 "nbformat": 4,
 "nbformat_minor": 2
}
